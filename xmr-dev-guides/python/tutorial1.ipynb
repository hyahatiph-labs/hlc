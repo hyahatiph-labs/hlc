{
 "cells": [
  {
   "cell_type": "markdown",
   "metadata": {
    "metadata": {
     "deletable": false,
     "editable": false
    }
   },
   "source": [
    "# Monero Dev Guides\n",
    "## Part One - The setup"
   ]
  },
  {
   "cell_type": "markdown",
   "metadata": {
    "deletable": false,
    "editable": false
   },
   "source": [
    "If you are reading this then you have everything installed and are ready to go.\n",
    "\n",
    "Any issues or a step is not working please open an issue on [GitHub](https://github.com/hyahatiph-labs/hlc/issues)"
   ]
  },
  {
   "cell_type": "markdown",
   "metadata": {
    "deletable": false,
    "editable": false
   },
   "source": [
    "First thing's first. Let us start monerod and synchronize our stagenet node.\n",
    "\n",
    "The size is currently ~10GB so will take some time to download.\n",
    "\n",
    "It is possible to connect to a remote stagenet node, however, we should have the habit of running our own\n",
    "\n",
    "Additional Notes:\n",
    "* [public stagenet nodes - monero.fail](https://monero.fail/?nettype=stagenet)\n",
    "* [Run a Monero Node - @sethforprivacy](https://sethforprivacy.com/guides/run-a-monero-node/)"
   ]
  },
  {
   "cell_type": "markdown",
   "metadata": {
    "deletable": false,
    "editable": false
   },
   "source": [
    "Open a terminal / command prompt.\n",
    "\n",
    "Start the `monerod`* similar to below (based on your download)\n",
    "\n",
    "```bash\n",
    "$HOME/monero-x86_64-linux-gnu-v0.17.3.0/monerod --stagenet --data-dir=\"<path/to/your/ssd>\" --detach\n",
    "```"
   ]
  },
  {
   "cell_type": "markdown",
   "metadata": {
    "deletable": false,
    "editable": false
   },
   "source": [
    "## Get interactive - test daemon rpc\n",
    "\n",
    "Get the most recent block added \n",
    "\n",
    "Use Cases:\n",
    "* block explorer\n",
    "* data analysis"
   ]
  },
  {
   "cell_type": "code",
   "execution_count": null,
   "metadata": {
    "deletable": false,
    "editable": false
   },
   "outputs": [],
   "source": [
    "from monero.daemon import Daemon\n",
    "\n",
    "daemon = Daemon(port=38081)\n",
    "\n",
    "block = daemon.block(height=daemon.height() - 1)\n",
    "print(vars(block))"
   ]
  },
  {
   "cell_type": "markdown",
   "metadata": {
    "deletable": false,
    "editable": false
   },
   "source": [
    "Start the `monero-wallet-rpc`* similar to below (based on your download), creating your own secure `username` and `password`\n",
    "\n",
    "Note: \n",
    "\n",
    "* if running locally with vscode make sure you are in the `xmr-dev-guides` directory\n",
    "* setup your `jupyter_notebook_config.json` to point here in addition to starting `monero-wallet-rpc` in this directory if using standalone jupyter.\n",
    "\n",
    "```json\n",
    "{\n",
    "  \"NotebookApp\": {\n",
    "    \"password\": \"argon2:$argon2id$v=hashed password\",\n",
    "    \"ip\": \"*\",\n",
    "    \"allow_origin\": \"*\",\n",
    "    \"allow_remote_access\": true,\n",
    "    \"open_browser\": false,\n",
    "    \"websocket_compression_options\": {},\n",
    "    \"certfile\": \"/home/USER/.jupyter/service.pem\",\n",
    "    \"keyfile\": \"/home/USER/.jupyter/service-key.pem\",\n",
    "    \"notebook_dir\": \"/home/USER/hlc/xmr-dev-guides\"\n",
    "  }\n",
    "}\n",
    "\n",
    "```\n",
    "\n",
    "`cli`\n",
    "```bash\n",
    "$HOME/monero-x86_64-linux-gnu-v0.17.3.0/monero-wallet-rpc --wallet-dir wallets --disable-rpc-login --rpc-bind-port 38083 --stagenet\n",
    "```\n",
    "\n",
    "`gui`\n",
    "```bash\n",
    "$HOME/monero-gui-linux-x64-v0.17.3.0/extras/monero-wallet-rpc --wallet-dir wallets --disable-rpc-login --rpc-bind-port 38083 --stagenet\n",
    "```\n",
    "\n",
    "To learn more about the command type `monero-wallet-rpc -h`"
   ]
  },
  {
   "cell_type": "markdown",
   "metadata": {},
   "source": [
    "## Get interactive - test wallet rpc\n",
    "\n",
    "Get wallet seed\n",
    "\n",
    "Use case\n",
    "* Custom Monero wallet\n",
    "* User Account information on WebApplication"
   ]
  },
  {
   "cell_type": "code",
   "execution_count": null,
   "metadata": {
    "deletable": false,
    "editable": false
   },
   "outputs": [],
   "source": [
    "import uuid\n",
    "from requests.auth import HTTPDigestAuth\n",
    "from monero.wallet import Wallet\n",
    "from monero.backends.jsonrpc import JSONRPCWallet\n",
    "\n",
    "entropy = uuid.uuid1().hex\n",
    "url = 'http://localhost:38083/json_rpc'\n",
    "create_body = '{\"jsonrpc\":\"2.0\",\"id\":\"0\",\"method\":\"create_wallet\",\"params\":{\"filename\": ' + '\"dev-' + entropy + '\"' + ',\"password\":\"password\",\"language\":\"English\"}}'\n",
    "open_body = '{\"jsonrpc\":\"2.0\",\"id\":\"0\",\"method\":\"open_wallet\",\"params\":{\"filename\":' + '\"dev-' + entropy + '\"' + ',\"password\":\"password\",\"language\":\"English\"}}'\n",
    "r = requests.post(url, data = create_body, auth=HTTPDigestAuth('username', 'password'))\n",
    "r2 = requests.post(url, data = open_body, auth=HTTPDigestAuth('username', 'password'))\n",
    "\n",
    "w = Wallet(JSONRPCWallet(port=38083))\n",
    "\n",
    "seed = w.seed().phrase\n",
    "print(\"Don't lose your seed phrase, it is the only way to recover your funds: \\n {}\".format(seed))"
   ]
  },
  {
   "cell_type": "markdown",
   "metadata": {
    "deletable": false,
    "editable": false
   },
   "source": [
    "### Wrapping Up\n",
    "\n",
    "That's all for now. \n",
    "\n",
    "Installation is always tiring so the first lesson is short.\n",
    "\n",
    "In this tutorial we tested our daemon and wallet rpc setup.\n",
    "\n",
    "### Next Up\n",
    "\n",
    "More Monero daemon intimacy.\n",
    "* mini block explorer\n",
    "* fee calculation\n",
    "\n",
    "Stay tuned and happy hacking!"
   ]
  },
  {
   "cell_type": "markdown",
   "metadata": {
    "deletable": false,
    "editable": false
   },
   "source": [
    "Fund more tutorials\n",
    "\n",
    "This work is donation only in the spirit of paying forward.\n",
    "\n",
    "## Funding \n",
    "\n",
    "Clear net: https://hiahatf.org/donate \n",
    "\n",
    "Tor: http://d53hvlimdclu4hul3blw4e6uerj5zro4bha75svea2n7yituowdhr2id.onion/donate/\n",
    "\n",
    "courtesy of [@plowsof's](https://github.com/plowsof) Wishlist as a Service ([waas](https://github.com/plowsof/flipstarter-waas-wip))\n"
   ]
  }
 ],
 "metadata": {
  "interpreter": {
   "hash": "e7370f93d1d0cde622a1f8e1c04877d8463912d04d973331ad4851f04de6915a"
  },
  "kernelspec": {
   "display_name": "TypeScript",
   "language": "python",
   "name": "python3"
  },
  "language_info": {
   "codemirror_mode": {
    "name": "ipython",
    "version": 3
   },
   "file_extension": ".py",
   "mimetype": "text/x-python",
   "name": "python",
   "nbconvert_exporter": "python",
   "pygments_lexer": "ipython3",
   "version": "3.10.4"
  }
 },
 "nbformat": 4,
 "nbformat_minor": 2
}
