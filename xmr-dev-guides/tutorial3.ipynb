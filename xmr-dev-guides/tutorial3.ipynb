{
 "cells": [
  {
   "cell_type": "markdown",
   "metadata": {
    "metadata": {
     "deletable": false,
     "editable": false
    }
   },
   "source": [
    "# Monero Dev Guides\n",
    "## Part Three - The wallet rpc"
   ]
  },
  {
   "cell_type": "markdown",
   "metadata": {
    "deletable": false,
    "editable": false
   },
   "source": [
    "Any issues or a step is not working please open an issue on [GitHub](https://github.com/hyahatiph-labs/hlc/issues)"
   ]
  },
  {
   "cell_type": "markdown",
   "metadata": {
    "deletable": false,
    "editable": false
   },
   "source": [
    "Nothing fancy here. Let's create a barebones wallet.\n",
    "\n",
    "### Exercise - Create Wallet\n",
    "\n",
    "should be a hint in the first tutorial"
   ]
  },
  {
   "cell_type": "code",
   "execution_count": null,
   "metadata": {},
   "outputs": [],
   "source": [
    "// code here"
   ]
  },
  {
   "cell_type": "markdown",
   "metadata": {},
   "source": [
    "### Exercise - Get / Create Addresses"
   ]
  },
  {
   "cell_type": "code",
   "execution_count": 1,
   "metadata": {},
   "outputs": [],
   "source": [
    "// code here"
   ]
  },
  {
   "cell_type": "markdown",
   "metadata": {},
   "source": [
    "### Exericse - Get funds / check balance\n",
    "\n",
    "There is a stagenet faucet [here](https://community.rino.io/faucet/stagenet/)\n",
    "\n",
    "Or start monerod with the `--start-mining` flag on stagenet"
   ]
  },
  {
   "cell_type": "code",
   "execution_count": null,
   "metadata": {},
   "outputs": [],
   "source": [
    "// code here"
   ]
  },
  {
   "cell_type": "markdown",
   "metadata": {},
   "source": [
    "### Exericse - Transfer Funds"
   ]
  },
  {
   "cell_type": "code",
   "execution_count": null,
   "metadata": {},
   "outputs": [],
   "source": [
    "// code here"
   ]
  },
  {
   "cell_type": "markdown",
   "metadata": {},
   "source": [
    "## 2/3 Threshold (Multisig) Wallet\n",
    "\n",
    "The general guide is [here](https://monerodocs.org/multisignature/)\n",
    "\n",
    "* create 3 wallets\n",
    "* prepare multisig info\n",
    "* make multisig info\n",
    "* finalize multisig info\n",
    "* export / import multisig info (after each funding, you need to refresh)\n",
    "* send some transfers and practice signing\n",
    "\n",
    "Of course this exercise is much more fun with coding friends!"
   ]
  },
  {
   "cell_type": "markdown",
   "metadata": {},
   "source": [
    "Refer to monero-javascript documentation [here](https://github.com/monero-ecosystem/monero-javascript/blob/master/docs/developer_guide/multisig_wallets.md)"
   ]
  },
  {
   "cell_type": "code",
   "execution_count": null,
   "metadata": {
    "deletable": false,
    "editable": false
   },
   "outputs": [],
   "source": [
    "// code here"
   ]
  },
  {
   "cell_type": "markdown",
   "metadata": {
    "deletable": false,
    "editable": false
   },
   "source": [
    "### Wrapping Up\n",
    "\n",
    "That's all for now. \n",
    "\n",
    "There are always new and exciting things to learn!\n",
    "\n",
    "Just check-in for new commits, bug fixes and `.ipynb` files\n",
    "\n",
    "In this tutorial we created some wallets. We are officially wallet devs!\n",
    "\n",
    "\n",
    "Stay tuned and happy hacking!"
   ]
  },
  {
   "cell_type": "markdown",
   "metadata": {
    "deletable": false,
    "editable": false
   },
   "source": [
    "Fund and request more tutorials on github\n",
    "\n",
    "This work is donation only in the spirit of paying forward.\n",
    "\n",
    "## Funding \n",
    "\n",
    "Clear net: https://hiahatf.org/donate \n",
    "\n",
    "Tor: http://d53hvlimdclu4hul3blw4e6uerj5zro4bha75svea2n7yituowdhr2id.onion/donate/\n",
    "\n",
    "courtesy of [@plowsof's](https://github.com/plowsof) Wishlist as a Service ([waas](https://github.com/plowsof/flipstarter-waas-wip))\n"
   ]
  }
 ],
 "metadata": {
  "interpreter": {
   "hash": "e7370f93d1d0cde622a1f8e1c04877d8463912d04d973331ad4851f04de6915a"
  },
  "kernelspec": {
   "display_name": "TypeScript",
   "language": "typescript",
   "name": "tslab"
  },
  "language_info": {
   "codemirror_mode": {
    "mode": "typescript",
    "name": "javascript",
    "typescript": true
   },
   "file_extension": ".ts",
   "mimetype": "text/typescript",
   "name": "typescript",
   "version": "3.7.2"
  }
 },
 "nbformat": 4,
 "nbformat_minor": 2
}
