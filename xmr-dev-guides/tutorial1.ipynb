{
 "cells": [
  {
   "cell_type": "markdown",
   "metadata": {
    "metadata": {
     "deletable": false,
     "editable": false
    }
   },
   "source": [
    "# Monero Dev Guides\n",
    "## Part One - The setup"
   ]
  },
  {
   "cell_type": "markdown",
   "metadata": {},
   "source": [
    "If you are reading this then you have everything installed and are ready to go.\n",
    "\n",
    "Any issues or a step is not working please open an issue on [GitHub](https://github.com/hyahatiph-labs/hlc/issues)"
   ]
  },
  {
   "cell_type": "markdown",
   "metadata": {},
   "source": [
    "First thing's first. Let us start monerod and synchronize our stagenet node.\n",
    "\n",
    "The size is currently ~10GB so will take some time to download.\n",
    "\n",
    "It is possible to connect to a remote stagenet node, however, we should have the habit of running our own\n",
    "\n",
    "Additional Notes:\n",
    "* [public stagenet nodes - monero.fail](https://monero.fail/?nettype=stagenet)\n",
    "* [Run a Monero Node - @sethforprivacy](https://sethforprivacy.com/guides/run-a-monero-node/)"
   ]
  },
  {
   "cell_type": "markdown",
   "metadata": {},
   "source": [
    "Open a terminal / command prompt.\n",
    "\n",
    "Start the `monerod`* similar to below (based on your download)\n",
    "\n",
    "```bash\n",
    "./monero-x86_64-linux-gnu-v0.17.3.0/monerod --stagenet --data-dir=\"<path/to/your/ssd>\" --detach\n",
    "```"
   ]
  },
  {
   "cell_type": "markdown",
   "metadata": {},
   "source": [
    "## Get interactive - test daemon rpc\n",
    "\n",
    "First let import the monero-javascript library\n",
    "\n",
    "Then will get the most recent block added \n",
    "\n",
    "Use Cases:\n",
    "* block explorer\n",
    "* data analysis"
   ]
  },
  {
   "cell_type": "code",
   "execution_count": null,
   "metadata": {},
   "outputs": [],
   "source": [
    "import * as xmrjs from 'monero-javascript';\n",
    "\n",
    "const result = async (): Promise<void> => {\n",
    "    // replace values as needed\n",
    "    const daemon = await xmrjs.connectToDaemonRpc(\n",
    "        'http://localhost:38081', \"username\", \"password\"\n",
    "    );\n",
    "    const block = await daemon.getBlockByHeight(await daemon.getHeight() - 1)\n",
    "    console.log(`last block: ${JSON.stringify(block.toJson())}`);\n",
    "}\n",
    "result();"
   ]
  },
  {
   "cell_type": "markdown",
   "metadata": {},
   "source": [
    "Start the `monero-wallet-rpc`* similar to below (based on your download), creating your own secure `username` and `password`\n",
    "\n",
    "Note: if running locally make sure you are in the `xmr-dev-guides` directory\n",
    "\n",
    "`cli`\n",
    "```bash\n",
    "$HOME/monero-x86_64-linux-gnu-v0.17.3.0/monero-wallet-rpc --wallet-dir wallets --rpc-login username:password --rpc-bind-port 38083 --stagenet\n",
    "```\n",
    "\n",
    "`gui`\n",
    "```bash\n",
    "$HOME/monero-gui-linux-x64-v0.17.3.0/extras/monero-wallet-rpc --wallet-dir wallets --rpc-login username:password --rpc-bind-port 38083 --stagenet\n",
    "```\n",
    "\n",
    "To learn more about the command type `monero-wallet-rpc -h`"
   ]
  },
  {
   "cell_type": "markdown",
   "metadata": {},
   "source": [
    "## Get interactive - test wallet rpc\n",
    "\n",
    "Create wallet (there are three different wallet types, [learn more](https://github.com/monero-ecosystem/monero-javascript/blob/master/docs/developer_guide/creating_wallets.md))\n",
    "\n",
    "Use case\n",
    "* Custom Monero wallet\n",
    "* User Account information on WebApplication"
   ]
  },
  {
   "cell_type": "code",
   "execution_count": null,
   "metadata": {},
   "outputs": [],
   "source": [
    "import * as xmrjs from 'monero-javascript';\n",
    "\n",
    "const result = async (): Promise<void> => {\n",
    "  // replace values as needed\n",
    "  const walletRpc = await xmrjs.connectToWalletRpc(\n",
    "    \"http://localhost:38083\", \"username\", \"password\");\n",
    "  const walletFull = await xmrjs.createWalletFull({\n",
    "      path: \"wallets/dev\",\n",
    "      password: \"walletpassword\",\n",
    "      networkType: \"stagenet\",\n",
    "      serverUri: \"http://localhost:38081\",\n",
    "      serverUsername: \"\",\n",
    "      serverPassword: \"\",\n",
    "    });\n",
    "  await walletRpc.openWallet(\"dev\", 'walletpassword')\n",
    "  const seedPhrase = await walletRpc.getMnemonic();\n",
    "  console.log(`Don't lose your seed phrase. It is the only way to recover your funds: \\n${seedPhrase}`)\n",
    "}\n",
    "result();"
   ]
  },
  {
   "cell_type": "markdown",
   "metadata": {},
   "source": [
    "### Wrapping Up\n",
    "\n",
    "That's all for now. \n",
    "\n",
    "Installation is always tiring so the first lesson is short.\n",
    "\n",
    "In this tutorial we tested our daemon and wallet rpc setup.\n",
    "\n",
    "### Next Up\n",
    "\n",
    "More Monero daemon intimacy.\n",
    "* mini block explorer\n",
    "* fee calculation\n",
    "\n",
    "Stay tuned and happy hacking!"
   ]
  },
  {
   "cell_type": "markdown",
   "metadata": {},
   "source": [
    "Fund more tutorials\n",
    "\n",
    "This work is donation only in the spirit of paying forward.\n",
    "\n",
    "## Funding \n",
    "\n",
    "Clear net: https://hiahatf.org/donate \n",
    "\n",
    "Tor: http://d53hvlimdclu4hul3blw4e6uerj5zro4bha75svea2n7yituowdhr2id.onion/donate/\n",
    "\n",
    "courtesy of [@plowsof's](https://github.com/plowsof) Wishlist as a Service ([waas](https://github.com/plowsof/flipstarter-waas-wip))\n"
   ]
  }
 ],
 "metadata": {
  "interpreter": {
   "hash": "e7370f93d1d0cde622a1f8e1c04877d8463912d04d973331ad4851f04de6915a"
  },
  "kernelspec": {
   "display_name": "TypeScript",
   "language": "typescript",
   "name": "tslab"
  },
  "language_info": {
   "codemirror_mode": {
    "mode": "typescript",
    "name": "javascript",
    "typescript": true
   },
   "file_extension": ".ts",
   "mimetype": "text/typescript",
   "name": "typescript",
   "version": "3.7.2"
  },
  "orig_nbformat": 4
 },
 "nbformat": 4,
 "nbformat_minor": 2
}
