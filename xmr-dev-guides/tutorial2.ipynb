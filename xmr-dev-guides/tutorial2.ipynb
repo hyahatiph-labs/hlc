{
 "cells": [
  {
   "cell_type": "markdown",
   "metadata": {
    "metadata": {
     "deletable": false,
     "editable": false
    }
   },
   "source": [
    "# Monero Dev Guides\n",
    "## Part Two - The daemon rpc"
   ]
  },
  {
   "cell_type": "markdown",
   "metadata": {
    "deletable": false,
    "editable": false
   },
   "source": [
    "Now we are experts with getting the monerod up on stagenet, let's get to it!\n",
    "\n",
    "Any issues or a step is not working please open an issue on [GitHub](https://github.com/hyahatiph-labs/hlc/issues)"
   ]
  },
  {
   "cell_type": "markdown",
   "metadata": {},
   "source": [
    "### Block Explorer\n",
    "\n",
    "Use cases\n",
    "* research and data analysis\n",
    "* tx broadcast, validation\n",
    "\n",
    "The first tutorial already displayed getting a block by height. Now we only need a few\n",
    "more functions.\n",
    "\n",
    "#### Exercise - Get a block by hash or height\n",
    "\n",
    "* display details like reward, timestamp, height, fees etc.\n",
    "* use JSDocs to find API info and usage\n",
    "* optional - use [danfo.js](https://danfo.jsdata.org/api-reference) for plots, dataframes etc."
   ]
  },
  {
   "cell_type": "code",
   "execution_count": null,
   "metadata": {},
   "outputs": [],
   "source": [
    "// code here"
   ]
  },
  {
   "cell_type": "markdown",
   "metadata": {},
   "source": [
    "#### Exercise - Get a transaction by hash\n",
    "\n",
    "* display details like number of inputs, number of ouputs, hash, fee etc.\n",
    "* use JSDocs to find API info and usage\n",
    "* optional - use [danfo.js](https://danfo.jsdata.org/api-reference) for plots, dataframes etc."
   ]
  },
  {
   "cell_type": "code",
   "execution_count": null,
   "metadata": {},
   "outputs": [],
   "source": [
    "// code here"
   ]
  },
  {
   "cell_type": "markdown",
   "metadata": {
    "deletable": false,
    "editable": false
   },
   "source": [
    "#### Exercise - Fee calculation\n",
    "\n",
    "In Mastering Monero p. 141 you may recall the fee calculation. \n",
    "\n",
    "```bash\n",
    "Fee per kB = (R/R0) * (M0/M) * F0 * (60/300) * 4\n",
    "```\n",
    "    Reference: Mastering Monero, SerHack p. 141\n",
    "\n",
    "Calculate the fee per kb for the most recent 100 blocks. Compare to fees paid."
   ]
  },
  {
   "cell_type": "code",
   "execution_count": null,
   "metadata": {
    "deletable": false,
    "editable": false
   },
   "outputs": [],
   "source": [
    "// code here"
   ]
  },
  {
   "cell_type": "markdown",
   "metadata": {
    "deletable": false,
    "editable": false
   },
   "source": [
    "### Wrapping Up\n",
    "\n",
    "That's all for now. \n",
    "\n",
    "\n",
    "In this tutorial we created-ish a block explorer and did some fee calculation.\n",
    "\n",
    "### Next Up\n",
    "\n",
    "Wallet stuff\n",
    "* functional wallet (send, receive, check balance etc.)\n",
    "* 2/3 threshold (multisig) wallet\n",
    "\n",
    "Stay tuned and happy hacking!"
   ]
  },
  {
   "cell_type": "markdown",
   "metadata": {
    "deletable": false,
    "editable": false
   },
   "source": [
    "Fund and request more tutorials on GitHub\n",
    "\n",
    "This work is donation only in the spirit of paying forward.\n",
    "\n",
    "## Funding \n",
    "\n",
    "Clear net: https://hiahatf.org/donate \n",
    "\n",
    "Tor: http://d53hvlimdclu4hul3blw4e6uerj5zro4bha75svea2n7yituowdhr2id.onion/donate/\n",
    "\n",
    "courtesy of [@plowsof's](https://github.com/plowsof) Wishlist as a Service ([waas](https://github.com/plowsof/flipstarter-waas-wip))\n"
   ]
  }
 ],
 "metadata": {
  "interpreter": {
   "hash": "e7370f93d1d0cde622a1f8e1c04877d8463912d04d973331ad4851f04de6915a"
  },
  "kernelspec": {
   "display_name": "TypeScript",
   "language": "typescript",
   "name": "tslab"
  },
  "language_info": {
   "codemirror_mode": {
    "mode": "typescript",
    "name": "javascript",
    "typescript": true
   },
   "file_extension": ".ts",
   "mimetype": "text/typescript",
   "name": "typescript",
   "version": "3.7.2"
  }
 },
 "nbformat": 4,
 "nbformat_minor": 2
}
