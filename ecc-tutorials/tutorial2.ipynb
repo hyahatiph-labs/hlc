{
 "cells": [
  {
   "cell_type": "markdown",
   "metadata": {},
   "source": [
    "# Elliptic curve cryptography \n",
    "## Tutorial/playground (part 2)"
   ]
  },
  {
   "cell_type": "code",
   "execution_count": null,
   "metadata": {},
   "outputs": [],
   "source": [
    "import keccak from 'keccak';\n",
    "import * as Utils from './src/util';\n",
    "import * as ed25519 from '@noble/ed25519';"
   ]
  },
  {
   "cell_type": "markdown",
   "metadata": {},
   "source": [
    "> this is about vectors of scalars (ScalarVector) and of points (PointVector).\n",
    "   we can think of a vector as an array of data."
   ]
  },
  {
   "cell_type": "code",
   "execution_count": null,
   "metadata": {},
   "outputs": [],
   "source": [
    "const v1 = []\n",
    "const v2 = []\n",
    "for (let i = BigInt(\"1\"); i <= BigInt(\"6\"); ++i) {\n",
    "    let s;\n",
    "    if (i < BigInt(\"4\")) {\n",
    "        s = new Utils.Scalar(i);\n",
    "        v1.push(await s.get_value()); \n",
    "    } else {\n",
    "        s = new Utils.Scalar(i);\n",
    "        v2.push(await s.get_value());\n",
    "    }\n",
    "}\n",
    "\n",
    "const sv1 = new Utils.ScalarVector(v1);\n",
    "const sv2 = new Utils.ScalarVector(v2);\n",
    "await (await sv1.get_value()).forEach(async (s, i) => console.log(`sv1[${i}]: ${await s.get_hex_value()}`));\n",
    "await (await sv2.get_value()).forEach(async (s, i) => console.log(`sv2[${i}]: ${await s.get_hex_value()}`));"
   ]
  },
  {
   "cell_type": "markdown",
   "metadata": {},
   "source": [
    "### Scalar Vector Operations Examples"
   ]
  },
  {
   "cell_type": "code",
   "execution_count": null,
   "metadata": {},
   "outputs": [],
   "source": [
    "// Addition\n",
    "let sv3;\n",
    "const result = async (): Promise<void> => {\n",
    "    sv3 = await sv1.add(sv2);\n",
    "    await (await sv3.get_value()).forEach(async (s, i) => console.log(`sv3[${i}]: ${await s.get_hex_value()}`));\n",
    "}\n",
    "result();"
   ]
  },
  {
   "cell_type": "code",
   "execution_count": null,
   "metadata": {},
   "outputs": [],
   "source": [
    "// Subtraction\n",
    "const result = async (): Promise<void> => {\n",
    "    const sv4 = await sv1.subtract(sv2);\n",
    "    await (await sv4.get_value()).forEach(async (s, i) => console.log(`sv4[${i}]: ${await s.get_hex_value()}`));\n",
    "}\n",
    "result();"
   ]
  },
  {
   "cell_type": "code",
   "execution_count": null,
   "metadata": {},
   "outputs": [],
   "source": [
    "// Mulitiplication (ScalarVector - ScalarVector)\n",
    "const result = async (): Promise<void> => {\n",
    "    const sv5 = await sv1.multiply(sv2);\n",
    "    await (await sv5.get_value()).forEach(async (s, i) => console.log(`sv5[${i}]: ${await s.get_hex_value()}`));\n",
    "}\n",
    "result();"
   ]
  },
  {
   "cell_type": "code",
   "execution_count": null,
   "metadata": {},
   "outputs": [],
   "source": [
    "// Sum of all\n",
    "const result = async (): Promise<void> => {\n",
    "    console.log(await (await sv1.sum_of_all()).get_hex_value())\n",
    "}\n",
    "result();"
   ]
  },
  {
   "cell_type": "code",
   "execution_count": null,
   "metadata": {},
   "outputs": [],
   "source": [
    "// Negate\n",
    "const result = async (): Promise<void> => {\n",
    "    const sv7 = await sv1.negate();\n",
    "    await (await sv7.get_value()).forEach(async (s, i) => console.log(`sv7[${i}]: ${await s.get_hex_value()}`));\n",
    "}\n",
    "result();"
   ]
  },
  {
   "cell_type": "code",
   "execution_count": null,
   "metadata": {},
   "outputs": [],
   "source": [
    "// Dot product x1 ** x2\n",
    "const result = async (): Promise<void> => {\n",
    "    const s = await sv1.pow(sv2);\n",
    "    console.log(`Dot product sv1 ** sv2: ${await s.get_hex_value()}`);\n",
    "}\n",
    "result();"
   ]
  },
  {
   "cell_type": "markdown",
   "metadata": {},
   "source": [
    "### Point Vector Example Operations"
   ]
  },
  {
   "cell_type": "code",
   "execution_count": null,
   "metadata": {},
   "outputs": [],
   "source": [
    "// initialize\n",
    "const v1 = []\n",
    "const v2 = []\n",
    "for (let i = BigInt(\"1\"); i <= BigInt(\"6\"); ++i) {\n",
    "    if (i < BigInt(\"4\"))\n",
    "        v1.push(ed25519.Point.BASE.multiply(BigInt(i)).toHex()); \n",
    "    else \n",
    "        v2.push(ed25519.Point.BASE.multiply(BigInt(i)).toHex());\n",
    "}\n",
    "\n",
    "const pv1 = new Utils.PointVector(v1);\n",
    "const pv2 = new Utils.PointVector(v2);\n",
    "// point vector\n",
    "const pa1 = await pv1.get_value();\n",
    "const pa2 = await pv2.get_value();\n",
    "pa1.forEach(async (p, i) => console.log(`pv1[${i}]: ${await p.toHex()}`));\n",
    "pa2.forEach(async (p, i) => console.log(`pv2[${i}]: ${await p.toHex()}`));"
   ]
  },
  {
   "cell_type": "code",
   "execution_count": null,
   "metadata": {},
   "outputs": [],
   "source": [
    "// addtion\n",
    "const result = async (): Promise<void> => {\n",
    "    const pv3 = await pv1.add(pv2);\n",
    "    await (await pv3.get_value()).forEach(async (p, i) => console.log(`pv3[${i}]: ${await p.toHex()}`));\n",
    "}\n",
    "result();"
   ]
  },
  {
   "cell_type": "code",
   "execution_count": null,
   "metadata": {},
   "outputs": [],
   "source": [
    "// Multiscalar multiplication ScalarVector**PointVector\n",
    "const result = async (): Promise<void> => {\n",
    "    const s = await sv1.pow(sv2);\n",
    "    const expected = ed25519.Point.BASE.multiply(await s.get_value()).toHex();\n",
    "    const s2 = await sv1.pow(pv2);\n",
    "    console.log(`Expected Multiscalar Mult: ${expected}`);\n",
    "    console.log(`Actual Multiscalar Mult: ${await s2.get_hex_value()}`);\n",
    "}\n",
    "result();"
   ]
  },
  {
   "cell_type": "markdown",
   "metadata": {},
   "source": [
    "### please read util.ts code for better understanding of PointVector.\n",
    "\n",
    "### Exercise: implement Shamir secret sharing\n",
    "read more: https://en.wikipedia.org/wiki/Shamir%27s_Secret_Sharing\n",
    "\n",
    "here's the scenario:\n",
    "* You know a secret. you call n other people (which we call 'players').\n",
    "* You must give each player a \"partial key\" so that exactly m people (with m <= n)\n",
    "* is required to recover the secret. how would you do that?\n",
    "\n",
    "### Shamir secret sharing allows you to do this!\n",
    "\n",
    "### here's the actual secret. the players must not know this (until recovery at least)"
   ]
  },
  {
   "cell_type": "code",
   "execution_count": 63,
   "metadata": {},
   "outputs": [],
   "source": [
    "const actual_secret = new Utils.Scalar(BigInt(\"123456789\"));"
   ]
  },
  {
   "cell_type": "markdown",
   "metadata": {},
   "source": [
    "* build the secret polynomial: we want m = 3 players to recover the secret\n",
    "* hence len(poly) should be 3, or in other words, degree of polynomial should be 2.\n",
    "* set coeff[0] = actual_secret, and the other coeff must be random scalars.\n",
    "\n",
    "### note: \n",
    "* coeff[0] corresponds to x ** 0 = 1\n",
    "* coeff[1] corresponds to x ** 1 = x,\n",
    "* coeff[2] corresponds to x ** 2, etc.\n",
    "\n",
    "### pre_poly = [None for i in range(3)]"
   ]
  },
  {
   "cell_type": "code",
   "execution_count": null,
   "metadata": {},
   "outputs": [],
   "source": [
    "// code here"
   ]
  },
  {
   "cell_type": "markdown",
   "metadata": {},
   "source": [
    "#### polynomial evaluation poly(x)\n",
    "    python example:\n",
    "```python\n",
    "def poly_eval(x: Scalar, coeff: ScalarVector) -> Scalar:\n",
    "    powers_x = ScalarVector()\n",
    "    powers_x.append(Scalar(1))\n",
    "    for i in range(len(coeff) - 1):\n",
    "        powers_x.append(x * powers_x[i])\n",
    "    return powers_x ** coeff\n",
    "```"
   ]
  },
  {
   "cell_type": "markdown",
   "metadata": {},
   "source": [
    "### list of n = 5 'players'/x-coord of share coords\n",
    "##### note: Scalar(0) is not allowed in player_list because poly(0) = secret (which leaks the secret)\n",
    "```python\n",
    "player_list = [Scalar(1), Scalar(2), Scalar(3), Scalar(4), Scalar(5)]\n",
    "```\n",
    "\n",
    "### build all share coords. these are the \"partial keys\" to be sent to the players\n",
    "```python\n",
    "all_coords = []\n",
    "for xi in player_list:\n",
    "    all_coords.append((xi, poly_eval(xi, poly)))\n",
    "```\n",
    "\n",
    "### recover the secret: implement the formula in the following link:\n",
    "https://en.wikipedia.org/wiki/Shamir%27s_Secret_Sharing#Computationally_efficient_approach\n",
    "#### * coords: set of coords for recovery\n",
    "#### note: our \"division\" is (x1 * x2.invert()), NOT (x1 // x2) !!!"
   ]
  },
  {
   "cell_type": "code",
   "execution_count": null,
   "metadata": {},
   "outputs": [],
   "source": [
    "// code here"
   ]
  },
  {
   "cell_type": "markdown",
   "metadata": {},
   "source": [
    "### here's a 3 coords to recover secret:\n",
    "\n",
    "#### Experiment: what would happen if \n",
    "\n",
    "1. you change some indexes?\n",
    "2. add/remove coords?\n",
    "\n",
    "```python\n",
    "recover_coords = [all_coords[0], all_coords[2], all_coords[4]]\n",
    "\n",
    "recovered_secret = recover(recover_coords)\n",
    "if recovered_secret == actual_secret:\n",
    "    print(\"\\nThe implementation of Shamir secret sharing works!\")\n",
    "else:\n",
    "    print(\"\\nThere's a problem in implementation of Shamir secret sharing.\")\n",
    "```"
   ]
  }
 ],
 "metadata": {
  "kernelspec": {
   "display_name": "TypeScript",
   "language": "typescript",
   "name": "tslab"
  },
  "language_info": {
   "codemirror_mode": {
    "mode": "typescript",
    "name": "javascript",
    "typescript": true
   },
   "file_extension": ".ts",
   "mimetype": "text/typescript",
   "name": "typescript",
   "version": "3.7.2"
  },
  "orig_nbformat": 4
 },
 "nbformat": 4,
 "nbformat_minor": 2
}
