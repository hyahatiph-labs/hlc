{
 "cells": [
  {
   "cell_type": "markdown",
   "metadata": {},
   "source": [
    "# Elliptic curve cryptography \n",
    "## Tutorial/playground (part 2)"
   ]
  },
  {
   "cell_type": "code",
   "execution_count": null,
   "metadata": {},
   "outputs": [],
   "source": [
    "import keccak from 'keccak';\n",
    "import * as Utils from './src/util';\n",
    "import * as ed25519 from '@noble/ed25519';"
   ]
  },
  {
   "cell_type": "markdown",
   "metadata": {},
   "source": [
    "> this is about vectors of scalars (ScalarVector) and of points (PointVector).\n",
    "   we can think of a vector as an array of data."
   ]
  },
  {
   "cell_type": "code",
   "execution_count": null,
   "metadata": {},
   "outputs": [],
   "source": [
    "const v1 = []\n",
    "const v2 = []\n",
    "for (let i = BigInt(\"1\"); i <= BigInt(\"6\"); ++i) {\n",
    "    let s;\n",
    "    if (i < BigInt(\"4\")) {\n",
    "        s = new Utils.Scalar(i);\n",
    "        v1.push(await s.get_value()); \n",
    "    } else {\n",
    "        s = new Utils.Scalar(i);\n",
    "        v2.push(await s.get_value());\n",
    "    }\n",
    "}\n",
    "\n",
    "const sv1 = new Utils.ScalarVector(v1);\n",
    "const sv2 = new Utils.ScalarVector(v2);\n",
    "await (await sv1.get_value()).forEach(async (s, i) => console.log(`sv1[${i}]: ${await s.get_hex_value()}`));\n",
    "await (await sv2.get_value()).forEach(async (s, i) => console.log(`sv2[${i}]: ${await s.get_hex_value()}`));"
   ]
  },
  {
   "cell_type": "markdown",
   "metadata": {},
   "source": [
    "### Scalar Vector Operations Examples"
   ]
  },
  {
   "cell_type": "code",
   "execution_count": null,
   "metadata": {},
   "outputs": [],
   "source": [
    "// Addition\n",
    "let sv3;\n",
    "const result = async (): Promise<void> => {\n",
    "    sv3 = await sv1.add(sv2);\n",
    "    await (await sv3.get_value()).forEach(async (s, i) => console.log(`sv3[${i}]: ${await s.get_hex_value()}`));\n",
    "}\n",
    "result();"
   ]
  },
  {
   "cell_type": "code",
   "execution_count": null,
   "metadata": {},
   "outputs": [],
   "source": [
    "// Subtraction\n",
    "const result = async (): Promise<void> => {\n",
    "    const sv4 = await sv1.subtract(sv2);\n",
    "    await (await sv4.get_value()).forEach(async (s, i) => console.log(`sv4[${i}]: ${await s.get_hex_value()}`));\n",
    "}\n",
    "result();"
   ]
  },
  {
   "cell_type": "code",
   "execution_count": null,
   "metadata": {},
   "outputs": [],
   "source": [
    "// Mulitiplication (ScalarVector - ScalarVector)\n",
    "const result = async (): Promise<void> => {\n",
    "    const sv5 = await sv1.multiply(sv2);\n",
    "    await (await sv5.get_value()).forEach(async (s, i) => console.log(`sv5[${i}]: ${await s.get_hex_value()}`));\n",
    "}\n",
    "result();"
   ]
  },
  {
   "cell_type": "code",
   "execution_count": null,
   "metadata": {},
   "outputs": [],
   "source": [
    "// Sum of all\n",
    "const result = async (): Promise<void> => {\n",
    "    console.log(await (await sv1.sum_of_all()).get_hex_value())\n",
    "}\n",
    "result();"
   ]
  },
  {
   "cell_type": "code",
   "execution_count": null,
   "metadata": {},
   "outputs": [],
   "source": [
    "// Negate\n",
    "const result = async (): Promise<void> => {\n",
    "    const sv7 = await sv1.negate();\n",
    "    await (await sv7.get_value()).forEach(async (s, i) => console.log(`sv7[${i}]: ${await s.get_hex_value()}`));\n",
    "}\n",
    "result();"
   ]
  },
  {
   "cell_type": "code",
   "execution_count": null,
   "metadata": {},
   "outputs": [],
   "source": [
    "// Dot product x1 ** x2\n",
    "const result = async (): Promise<void> => {\n",
    "    const s = await sv1.pow(sv2);\n",
    "    console.log(`Dot product sv1 ** sv2: ${await s.get_hex_value()}`);\n",
    "}\n",
    "result();"
   ]
  },
  {
   "cell_type": "markdown",
   "metadata": {},
   "source": [
    "### Point Vector Example Operations"
   ]
  },
  {
   "cell_type": "code",
   "execution_count": null,
   "metadata": {},
   "outputs": [],
   "source": [
    "// initialize\n",
    "const v1 = []\n",
    "const v2 = []\n",
    "for (let i = BigInt(\"1\"); i <= BigInt(\"6\"); ++i) {\n",
    "    if (i < BigInt(\"4\"))\n",
    "        v1.push(ed25519.Point.BASE.multiply(BigInt(i)).toHex()); \n",
    "    else \n",
    "        v2.push(ed25519.Point.BASE.multiply(BigInt(i)).toHex());\n",
    "}\n",
    "\n",
    "const pv1 = new Utils.PointVector(v1);\n",
    "const pv2 = new Utils.PointVector(v2);\n",
    "// point vector\n",
    "const pa1 = await pv1.get_value();\n",
    "const pa2 = await pv2.get_value();\n",
    "pa1.forEach(async (p, i) => console.log(`pv1[${i}]: ${await p.toHex()}`));\n",
    "pa2.forEach(async (p, i) => console.log(`pv2[${i}]: ${await p.toHex()}`));"
   ]
  },
  {
   "cell_type": "code",
   "execution_count": null,
   "metadata": {},
   "outputs": [],
   "source": [
    "// addtion\n",
    "const result = async (): Promise<void> => {\n",
    "    const pv3 = await pv1.add(pv2);\n",
    "    await (await pv3.get_value()).forEach(async (p, i) => console.log(`pv3[${i}]: ${await p.toHex()}`));\n",
    "}\n",
    "result();"
   ]
  }
 ],
 "metadata": {
  "kernelspec": {
   "display_name": "TypeScript",
   "language": "typescript",
   "name": "tslab"
  },
  "language_info": {
   "codemirror_mode": {
    "mode": "typescript",
    "name": "javascript",
    "typescript": true
   },
   "file_extension": ".ts",
   "mimetype": "text/typescript",
   "name": "typescript",
   "version": "3.7.2"
  },
  "orig_nbformat": 4
 },
 "nbformat": 4,
 "nbformat_minor": 2
}
