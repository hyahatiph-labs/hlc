{
 "cells": [
  {
   "cell_type": "markdown",
   "metadata": {},
   "source": [
    "# Elliptic curve cryptography \n",
    "## Tutorial/playground (part 1)"
   ]
  },
  {
   "cell_type": "code",
   "execution_count": null,
   "metadata": {},
   "outputs": [],
   "source": [
    "import keccak from 'keccak';\n",
    "import * as Utils from './src/util';\n",
    "import * as ed25519 from '@noble/ed25519';"
   ]
  },
  {
   "cell_type": "markdown",
   "metadata": {},
   "source": [
    "> treat an elliptic curve group of points like you do vectors:\n",
    "  you can add/subtract points `(G + H, G - H)` \n",
    "  and you can do scalar multiplication with it `(x * G or xG for short)`.\n",
    " ...and the analogy stops there.\n",
    "\n",
    "> HOWEVER, we can have a vector/array OF scalars & OF points (part 2).\n",
    "\n",
    "> difference #1: the scalars. in vector calculus, the scalar is real\n",
    "  numbers. on the other hand, our scalar is integers modulo a large\n",
    "  prime number l. in other words, our scalars are only from 0 to (l - 1)\n",
    " (the remainders when any integer is divided by l).\n",
    "  Here's the l:"
   ]
  },
  {
   "cell_type": "code",
   "execution_count": null,
   "metadata": {},
   "outputs": [],
   "source": [
    "console.log(`l: ${ed25519.CURVE.l}`);"
   ]
  },
  {
   "cell_type": "markdown",
   "metadata": {},
   "source": [
    "### scalar initialize"
   ]
  },
  {
   "cell_type": "code",
   "execution_count": null,
   "metadata": {},
   "outputs": [],
   "source": [
    "const one = new Utils.Scalar(BigInt(\"1\"));\n",
    "const two = new Utils.Scalar(BigInt(\"2\"));\n",
    "const one_hex = await one.get_hex_value();\n",
    "const two_hex = await two.get_hex_value();"
   ]
  },
  {
   "cell_type": "markdown",
   "metadata": {},
   "source": [
    "#### Addition"
   ]
  },
  {
   "cell_type": "code",
   "execution_count": null,
   "metadata": {},
   "outputs": [],
   "source": [
    "const result = async (): Promise<void> => {\n",
    "    const sum = await (await one.add(two_hex)).get_hex_value();\n",
    "    console.log(`${one_hex} + ${two_hex} = ${sum}`)\n",
    "}\n",
    "result();"
   ]
  },
  {
   "cell_type": "markdown",
   "metadata": {},
   "source": [
    "### Diff\n"
   ]
  },
  {
   "cell_type": "code",
   "execution_count": null,
   "metadata": {},
   "outputs": [],
   "source": [
    "const result = async (): Promise<void> => {\n",
    "    const diff = await (await one.subtract(two_hex)).get_value();\n",
    "    console.log(`${one_hex} - ${two_hex} = ${diff}`)\n",
    "}\n",
    "result();"
   ]
  },
  {
   "cell_type": "markdown",
   "metadata": {},
   "source": [
    "> What?! Not -1? Again, our numbers are only from 0 to (l - 1). Hence -1 becomes \"the same\" with (l - 1)."
   ]
  },
  {
   "cell_type": "markdown",
   "metadata": {},
   "source": [
    "### Prod"
   ]
  },
  {
   "cell_type": "code",
   "execution_count": null,
   "metadata": {},
   "outputs": [],
   "source": [
    "const result = async (): Promise<void> => {\n",
    "    const product = await (await one.multiply(two_hex)).get_hex_value();\n",
    "    console.log(`${one_hex} * ${two_hex} = ${product}`)\n",
    "}\n",
    "result();"
   ]
  },
  {
   "cell_type": "markdown",
   "metadata": {},
   "source": [
    "> we have something like \"division\", but we do not use slash.\n",
    ">instead, inversion (analogous to \"reciprocal\") is performed on the supposed\n",
    "> divisor, then perform multiplication.\n"
   ]
  },
  {
   "cell_type": "code",
   "execution_count": null,
   "metadata": {},
   "outputs": [],
   "source": [
    "const divide = async(a: string, b: string): Promise<void> => {\n",
    "    const inv = ed25519.utils.invert(await two.get_value(), ed25519.CURVE.l);\n",
    "    const quot = await Utils.l_overflow_check(await one.get_value() * inv);\n",
    "    console.log(`${await a} / ${await b} = ${quot}`);\n",
    "}\n",
    "divide(one_hex, two_hex);"
   ]
  },
  {
   "cell_type": "markdown",
   "metadata": {},
   "source": [
    "> ...Yeah this doesn't make much sense. 1/2 becomes \"the same\" with... that quotient.\n",
    "> To make sense of this, we multiply the \"quotient\" and 2. The product should be 1\n",
    "> like x * (1/x) = 1."
   ]
  },
  {
   "cell_type": "code",
   "execution_count": null,
   "metadata": {},
   "outputs": [],
   "source": [
    "const divide = async (a: string, b: string): Promise<void> => {\n",
    "    const inv = ed25519.utils.invert(await two.get_value(), ed25519.CURVE.l);\n",
    "    const quot = await Utils.l_overflow_check(await one.get_value() * inv);\n",
    "    const prod2 = await Utils.l_overflow_check(await two.get_value() * quot);\n",
    "    console.log(`${a} * ${b} = ${prod2}`);\n",
    "}\n",
    "divide(one_hex, two_hex);"
   ]
  },
  {
   "cell_type": "markdown",
   "metadata": {},
   "source": [
    "> exponent is also possible. the power should be a natural number only."
   ]
  },
  {
   "cell_type": "code",
   "execution_count": null,
   "metadata": {},
   "outputs": [],
   "source": [
    "const three = new Utils.Scalar(BigInt(\"3\"));\n",
    "const three_hex = await three.get_hex_value();\n",
    "const result = async (): Promise<void> => {\n",
    "    const power = await (await two.exp(three_hex)).get_hex_value();\n",
    "    console.log(`${two_hex} ** ${three_hex} = ${power}`);\n",
    "}\n",
    "result();"
   ]
  },
  {
   "cell_type": "markdown",
   "metadata": {},
   "source": [
    "### Random scalar"
   ]
  },
  {
   "cell_type": "code",
   "execution_count": null,
   "metadata": {},
   "outputs": [],
   "source": [
    "const result = async (): Promise<void> => {\n",
    "    const s = await Utils.rnd_scalar();\n",
    "    console.log(await s.get_hex_value());\n",
    "}\n",
    "result();"
   ]
  },
  {
   "cell_type": "markdown",
   "metadata": {},
   "source": [
    "> differences #2: the elliptic curve points. these are actually points (x,y)\n",
    "  but the x and y are integers modulo another large (not necessarily prime)\n",
    "  number q\n",
    "  we usually do not initialize points like we initialize scalar. instead, we use\n",
    "  either one of the two:\n",
    "  1) get a random point"
   ]
  },
  {
   "cell_type": "code",
   "execution_count": null,
   "metadata": {},
   "outputs": [],
   "source": [
    "const random_point = async (): Promise<ed25519.Point> => {\n",
    "    let point;\n",
    "    try {\n",
    "        point = ed25519.Point.fromHex(await (await Utils.rnd_scalar()).get_hex_value())\n",
    "    } catch {\n",
    "        point = await random_point();\n",
    "    }\n",
    "    return point;\n",
    "}"
   ]
  },
  {
   "cell_type": "code",
   "execution_count": null,
   "metadata": {},
   "outputs": [],
   "source": [
    "const log_point = async (): Promise<void> => {\n",
    "    console.log(await random_point());\n",
    "}\n",
    "log_point();"
   ]
  },
  {
   "cell_type": "markdown",
   "metadata": {},
   "source": [
    "2. using the \"base generator\" G\n",
    "* [crytpography stack exchange](https://crypto.stackexchange.com/questions/27392/base-point-in-ed25519)\n",
    "* [monero stack exchange](https://monero.stackexchange.com/questions/6050/what-is-the-base-point-g-from-the-whitepaper-and-how-is-it-represented-as-a)"
   ]
  },
  {
   "cell_type": "code",
   "execution_count": null,
   "metadata": {},
   "outputs": [],
   "source": [
    "const base_generator = async (): Promise<void> => {\n",
    "    console.log(`G: ${ed25519.Point.BASE.toHex()}`\n",
    "    );\n",
    "    console.log(ed25519.Point.BASE)\n",
    "}\n",
    "base_generator();"
   ]
  },
  {
   "cell_type": "markdown",
   "metadata": {},
   "source": [
    "> now to produce another point from G (or any other point), we can do, as being said earlier, \n",
    "  addition/subtraction of points (G + H, G - H) and scalar multiplication xG for scalar x."
   ]
  },
  {
   "cell_type": "code",
   "execution_count": null,
   "metadata": {},
   "outputs": [],
   "source": [
    "const gplusg = ed25519.Point.BASE.add(ed25519.Point.BASE);\n",
    "const gminusg = ed25519.Point.BASE.subtract(ed25519.Point.BASE);\n",
    "console.log(`G + G = ${gplusg.toHex()}`);\n",
    "console.log(`G - G = ${gminusg.toHex()}`);"
   ]
  },
  {
   "cell_type": "markdown",
   "metadata": {},
   "source": [
    "#### zero point"
   ]
  },
  {
   "cell_type": "code",
   "execution_count": null,
   "metadata": {},
   "outputs": [],
   "source": [
    "console.log(ed25519.Point.ZERO.toHex())"
   ]
  },
  {
   "cell_type": "markdown",
   "metadata": {},
   "source": [
    "> \"Are G - G and Z the same?\""
   ]
  },
  {
   "cell_type": "code",
   "execution_count": null,
   "metadata": {},
   "outputs": [],
   "source": [
    "const g_prod = () => {\n",
    "    for (let i = BigInt(\"0\"); i < BigInt(\"15\"); ++i) {\n",
    "        const another_point = i === BigInt(\"0\") ? ed25519.Point.ZERO : ed25519.Point.BASE.multiply(BigInt(i))\n",
    "        console.log(`${i} * G = ${another_point.toHex()}`)\n",
    "    }\n",
    "}\n",
    "g_prod();"
   ]
  },
  {
   "cell_type": "markdown",
   "metadata": {},
   "source": [
    "> Those last points look \"random\". This IS a big reason why we use elliptic curves in cryptography:\n",
    "   \n",
    "> If I give you a random point P, it is assumed to be \n",
    "  impossible to find the x such that `P = xG`. The problem of finding x is called \"Discrete Logarithm\n",
    "  Problem\" (DLP) and the impossibility assumption is called Discrete Logarithm (DL) assumption.\""
   ]
  },
  {
   "cell_type": "markdown",
   "metadata": {},
   "source": [
    "### exercise: what is (-1)G + G? "
   ]
  },
  {
   "cell_type": "code",
   "execution_count": null,
   "metadata": {},
   "outputs": [],
   "source": [
    "// code here"
   ]
  },
  {
   "cell_type": "markdown",
   "metadata": {},
   "source": [
    "### exercise: what is (1/x)*(xG)? "
   ]
  },
  {
   "cell_type": "code",
   "execution_count": null,
   "metadata": {},
   "outputs": [],
   "source": [
    "// code here"
   ]
  },
  {
   "cell_type": "markdown",
   "metadata": {},
   "source": [
    "### exercise: is Z == Z + random_point()?"
   ]
  },
  {
   "cell_type": "code",
   "execution_count": null,
   "metadata": {},
   "outputs": [],
   "source": [
    "// code here"
   ]
  },
  {
   "cell_type": "markdown",
   "metadata": {},
   "source": [
    "### cryptographic hash functions\n",
    "\n",
    "Here is an example of hashing with keccak256\n",
    "Note: Be careful with Buffer, it is easy to hash the string instead of bytes"
   ]
  },
  {
   "cell_type": "code",
   "execution_count": null,
   "metadata": {},
   "outputs": [],
   "source": [
    "// incorrect\n",
    "const hash = async (): Promise<void> => {\n",
    "    const s = new Utils.Scalar(BigInt(\"12\"));\n",
    "    console.log(\n",
    "        `hash: ${keccak('keccak256')\n",
    "            .update(await s.get_hex_value()).digest('hex')}`)\n",
    "}\n",
    "hash();"
   ]
  },
  {
   "cell_type": "code",
   "execution_count": null,
   "metadata": {},
   "outputs": [],
   "source": [
    "// correct\n",
    "const hash = async (): Promise<void> => {\n",
    "    const s = new Utils.Scalar(BigInt(\"12\"));\n",
    "    console.log(\n",
    "        `hash scalar: ${keccak('keccak256')\n",
    "            .update(Buffer.from(await s.get_hex_value(), 'hex')).digest('hex')}`)\n",
    "    console.log(\n",
    "        `hash point: ${keccak('keccak256')\n",
    "            .update(Buffer.from(ed25519.Point.BASE.toHex(), 'hex')).digest('hex')}`)\n",
    "}\n",
    "hash();"
   ]
  },
  {
   "cell_type": "markdown",
   "metadata": {},
   "source": [
    "### exercise: the Diffie-Hellman (DH) key exchange\n",
    ">  implement DH key exchange (just use variables):\n",
    "   Alice and Bob wants to share a secret scalar only they would know.\n",
    "   Using the generator G and hashing, how would they do it?\n",
    "   show that after the key exchange, Alice and Bob has a shared secret."
   ]
  },
  {
   "cell_type": "code",
   "execution_count": null,
   "metadata": {},
   "outputs": [],
   "source": [
    "// code here"
   ]
  },
  {
   "cell_type": "markdown",
   "metadata": {},
   "source": [
    "### exercise: Monero cryptocurrency uses Pedersen commitment to hide amounts in the blockchain.\n",
    "> implement Pedersen commitment: given a scalar x, it must output a pair `(r, rG + xH)` where r is\n",
    "  a random scalar. for Monero, r should never be in the blockchain, only the rG + xH is.\n",
    "\n",
    "> then demonstrate the homomorphicity of Pedersen commitment: show that\n",
    "  `pedersen(x1) + pedersen(x2) = (r1 + r2)G + (x1 + x2)H` where r1 and r2 are the 'r' output of\n",
    "  `pedersen(x1) and pedersen(x2)`, respectively."
   ]
  },
  {
   "cell_type": "code",
   "execution_count": null,
   "metadata": {},
   "outputs": [],
   "source": [
    "// code here"
   ]
  },
  {
   "cell_type": "markdown",
   "metadata": {},
   "source": [
    "### test for homomorphicity\n",
    " > commit2 = (r1 + r2) * G + (x1 + x2) * H\n",
    "\n",
    "commit1 should be equal to commit2"
   ]
  },
  {
   "cell_type": "markdown",
   "metadata": {},
   "source": [
    "### exercise: implement Elgamal point encryption scheme.\n",
    "\n",
    "here's the scenario:\n",
    "  * Alice must send the point Y to Bob securely. Bob generates a random keypair `(x, xG)`.\n",
    "  * x is the private key, and `P = xG` is the public key to be shared to Alice. Alice encrypts\n",
    "  * Y using P, and sends the cipher to Bob. Bob then decrypts the cipher using x.\n",
    "\n",
    "just like in DH key exchange, just use variables.\n",
    "  * encryption: given a point Y and point P, it must output a pair `(rG, Y + rP)`where r is a random scalar.\n",
    "  * decryption: given a cipher pair (C1, C2) and a scalar x, output `Y = C2 - x * C1`.\n",
    "\n",
    "then demonstrate the homomorphicity of Elgamal encryption scheme. using\n",
    "  * two plaintexts `69000 * H and 420 * H`, encrypt both separately, then pairwise add the two ciphers,\n",
    "  * then decrypt the \"sum\" cipher. what is the decrypted plaintext? "
   ]
  },
  {
   "cell_type": "code",
   "execution_count": null,
   "metadata": {},
   "outputs": [],
   "source": [
    "// code here"
   ]
  },
  {
   "cell_type": "markdown",
   "metadata": {},
   "source": [
    "> `expected_dec = Scalar(69420) * H`"
   ]
  }
 ],
 "metadata": {
  "interpreter": {
   "hash": "e7370f93d1d0cde622a1f8e1c04877d8463912d04d973331ad4851f04de6915a"
  },
  "kernelspec": {
   "display_name": "TypeScript",
   "language": "typescript",
   "name": "tslab"
  },
  "language_info": {
   "codemirror_mode": {
    "mode": "typescript",
    "name": "javascript",
    "typescript": true
   },
   "file_extension": ".ts",
   "mimetype": "text/typescript",
   "name": "typescript",
   "version": "3.7.2"
  },
  "orig_nbformat": 4
 },
 "nbformat": 4,
 "nbformat_minor": 2
}
