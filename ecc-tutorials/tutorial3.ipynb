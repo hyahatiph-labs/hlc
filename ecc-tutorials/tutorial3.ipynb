{
 "cells": [
  {
   "cell_type": "markdown",
   "metadata": {},
   "source": [
    "# Elliptic curve cryptography \n",
    "## Tutorial/playground (part 3)"
   ]
  },
  {
   "cell_type": "code",
   "execution_count": null,
   "metadata": {},
   "outputs": [],
   "source": [
    "import * as Utils from './src/util';\n",
    "import * as ed25519 from '@noble/ed25519';"
   ]
  },
  {
   "cell_type": "markdown",
   "metadata": {},
   "source": [
    "Unlike part 1 and part 2 tutorials, this tutorial is not much about\n",
    "the elliptic curve stuff. \n",
    "\n",
    "Instead, this is about proving systems.proving systems involves two characters: Prover and Verifier.\n",
    "\n",
    "Prover has a secret and he must convince the Verifier about facts regarding the secret, WITHOUT revealing the secret.\n",
    "\n",
    "There are two \"versions\" of proving systems: interactive and non-interactive.\n",
    "* interactive\n",
    "    * in the interactive version, Verifier is involved *during* the creation of full proof by Prover.\n",
    "    * in cryptography papers, it is the interactive version hat is usually presented.\n",
    "* non-interactive\n",
    "    * in the non-interactive version, the full proof is created by Prover alone, and Verifier will only verify the full proof. \n",
    "    * in actual implementations of cryptography, it is the non-interactive version that is usually implemented. we'll cover both here."
   ]
  },
  {
   "cell_type": "markdown",
   "metadata": {},
   "source": [
    "### Exercise: implement Schnorr protocol"
   ]
  },
  {
   "cell_type": "markdown",
   "metadata": {},
   "source": [
    "read more: https://en.wikipedia.org/wiki/Proof_of_knowledge#Schnorr_protocol\n",
    "\n",
    "note: the wiki uses \"multiplicative notation\" for the group binary operation\n",
    "\n",
    "(more common overall), but these tutorials (and Monero resources) use\n",
    "\n",
    "\"additive notation\" (more commonly seen when dealing with elliptic curves)"
   ]
  },
  {
   "cell_type": "markdown",
   "metadata": {},
   "source": [
    "Schnorr protocol is among the simplest proving system currently used!\n",
    "\n",
    "here's the scenario:\n",
    "* Prover has a secret scalar x. he sends the commitment `P = xG` to Verifier.\n",
    "* by the Discrete Logarithm (DL) assumption (see part 1), Verifier will not be able to crack the value of x.\n",
    "* however the Verifier still wants to be convinced that the Prover really knows x. How would the Prover do that?\n",
    "\n",
    "Schnorr protocol allows Prover to do this!\n",
    "\n"
   ]
  },
  {
   "cell_type": "markdown",
   "metadata": {},
   "source": [
    "### interactive"
   ]
  },
  {
   "cell_type": "code",
   "execution_count": null,
   "metadata": {},
   "outputs": [],
   "source": [
    "class SchnorrProof {\n",
    "\n",
    "   private G = ed25519.Point.BASE;\n",
    "   private P: ed25519.Point;\n",
    "   private c: Utils.Scalar;\n",
    "   private Q: ed25519.Point;\n",
    "   private s: Utils.Scalar;\n",
    "\n",
    "   /**\n",
    "    * Use SchnorrProof.init(scalar, point)\n",
    "    * for async - await initialization.\n",
    "    */\n",
    "   constructor() {}\n",
    "   public init = async (x: Utils.Scalar, P: ed25519.Point): Promise<void> => {\n",
    "      // we won't store the secret x here\n",
    "      this.P = P;\n",
    "      // let this.Q = rG.\n",
    "\n",
    "      // <-     code here       ->\n",
    "      \n",
    "      // now Prover would send P and Q to Verifier.\n",
    "      // once Verifier receives P and Q, she gives\n",
    "      // an interactive challenge c to Prover.\n",
    "      this.c = await Utils.rnd_scalar();\n",
    "\n",
    "      // once Prover received the challenge c, let this.s = r + c * x.\n",
    "      \n",
    "      // <-     code here       ->\n",
    "\n",
    "      // Prover would send s to Verifier. This completes the full proof.\n",
    "   }\n",
    "\n",
    "    /**\n",
    "     * once Verifier receives the full proof, she can now verify it.\n",
    "     */\n",
    "     public verify = async (): Promise<boolean> => {\n",
    "        // return s * G == Q + c * P\n",
    "\n",
    "        // <-     code here       ->\n",
    "\n",
    "     }\n",
    "     \n",
    "}"
   ]
  },
  {
   "cell_type": "markdown",
   "metadata": {},
   "source": [
    "### non-interactive"
   ]
  },
  {
   "cell_type": "code",
   "execution_count": null,
   "metadata": {},
   "outputs": [],
   "source": [
    "\n",
    "class NISchnorrProof {\n",
    "\n",
    "    private G = ed25519.Point.BASE;\n",
    "    private P: ed25519.Point;\n",
    "    private Q: Utils.Scalar;\n",
    "    private s: Utils.Scalar;\n",
    "\n",
    "    /**\n",
    "    * Use SchnorrProof.init(scalar, point)\n",
    "    * for async - await initialization.\n",
    "    */\n",
    "    constructor() {}\n",
    "    public init = async (x: Utils.Scalar, P: ed25519.Point): Promise<void> => {\n",
    "        // we won't store the secret x here\n",
    "        this.P = P;\n",
    "        // let r be a random scalar (don't put in this)\n",
    "        // let this.Q = rG.\n",
    "\n",
    "        // <-     code here       ->\n",
    "        \n",
    "        /* Unlike in interactive version, Prover must generate the challenge\n",
    "           themmself. however, he should not be able to cheat by manipulating the\n",
    "           challenge. hence, the challenge instead should be the hash of the\n",
    "           partial proof data. this trick is called \"Fiat-Shamir heuristic\".\n",
    "           c = hash_to_scalar(\"Schnorr Proof\", this.P.get_hex_value(), this.Q.toHex())\n",
    "           Not in this!\n",
    "         */\n",
    "\n",
    "        // let this.s = r + c * x.\n",
    "        \n",
    "        // <-     code here       ->\n",
    "\n",
    "        // now Prover would send the full proof (P, Q, s) to Verifier.\n",
    "\n",
    "    }\n",
    "\n",
    "    /**\n",
    "     * once Verifier receives the full proof, she can now verify it.\n",
    "     */\n",
    "     public verify = async (): Promise<boolean> => {\n",
    "        //  s * G == Q + hash_to_scalar(\"Schnorr Proof\", P, Q) * P\n",
    "\n",
    "        // <-     code here       ->\n",
    "     }\n",
    "\n",
    "}"
   ]
  },
  {
   "cell_type": "markdown",
   "metadata": {},
   "source": [
    "### Testing"
   ]
  },
  {
   "cell_type": "code",
   "execution_count": null,
   "metadata": {},
   "outputs": [],
   "source": [
    "\n",
    "//test 1 (should work)\n",
    "const prvkey = await Utils.rnd_scalar();\n",
    "const pubkey = ed25519.Point.BASE.multiply(await prvkey.get_value());\n",
    "    \n",
    "const proof1 = new SchnorrProof();\n",
    "await proof1.init(prvkey, pubkey);\n",
    "// also try NISchnorrProof\n",
    "if (await proof1.verify())\n",
    "    console.log(\"Proof1 Verified!\");\n",
    "else\n",
    "    console.log(\"Something's wrong (T_T)!\");\n",
    "\n",
    "// test 2 (should NOT work)\n",
    "const prvkey2 = await Utils.rnd_scalar();\n",
    "const s = new Utils.Scalar(BigInt(\"1\"));\n",
    "const s2 = await prvkey2.add(await s.get_value());\n",
    "const pubkey2 = ed25519.Point.BASE.multiply(await s2.get_value());\n",
    "\n",
    "const proof2 = new SchnorrProof();\n",
    "await proof2.init(prvkey2, pubkey2);\n",
    "// also try NISchnorrProof\n",
    "if (await proof2.verify())\n",
    "    console.log(\"Proof2 Verified!\");\n",
    "else\n",
    "    console.log(\"Something's wrong (T_T)!\")"
   ]
  }
 ],
 "metadata": {
  "interpreter": {
   "hash": "e7370f93d1d0cde622a1f8e1c04877d8463912d04d973331ad4851f04de6915a"
  },
  "kernelspec": {
   "display_name": "TypeScript",
   "language": "typescript",
   "name": "tslab"
  },
  "language_info": {
   "codemirror_mode": {
    "mode": "typescript",
    "name": "javascript",
    "typescript": true
   },
   "file_extension": ".ts",
   "mimetype": "text/typescript",
   "name": "typescript",
   "version": "3.7.2"
  },
  "orig_nbformat": 4
 },
 "nbformat": 4,
 "nbformat_minor": 2
}
